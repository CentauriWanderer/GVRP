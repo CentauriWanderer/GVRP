{
 "cells": [
  {
   "cell_type": "code",
   "execution_count": null,
   "metadata": {},
   "outputs": [],
   "source": [
    "from IPython import get_ipython\n",
    "get_ipython().magic('reset -sf') "
   ]
  },
  {
   "cell_type": "code",
   "execution_count": null,
   "metadata": {},
   "outputs": [],
   "source": [
    "from tkinter import filedialog\n",
    "from tkinter import Tk\n",
    "import os\n",
    "\n",
    "root = Tk()\n",
    "fpath = filedialog.askopenfilename(initialdir = os.getcwd(), title = 'Please select a file:')\n",
    "\n",
    "root.destroy()\n",
    "\n",
    "assert fpath[fpath.rindex('/') + 1:].find('.') == -1"
   ]
  },
  {
   "cell_type": "code",
   "execution_count": null,
   "metadata": {},
   "outputs": [],
   "source": [
    "import pickle\n",
    "\n",
    "with open(fpath,'rb') as f:\n",
    "\n",
    "    locations_new = pickle.load(f)\n",
    "    addresses = pickle.load(f)\n",
    "    distances = pickle.load(f)\n",
    "    routes = pickle.load(f)\n",
    "    north_bound = pickle.load(f)\n",
    "    south_bound = pickle.load(f)\n",
    "    left_bound = pickle.load(f)\n",
    "    right_bound = pickle.load(f)\n",
    "    nc = pickle.load(f)\n",
    "    nr = pickle.load(f)\n",
    "    service_time_customer = pickle.load(f)\n",
    "    service_time_rs = pickle.load(f)\n",
    "    v = pickle.load(f)\n",
    "    r = pickle.load(f)\n",
    "    L = pickle.load(f)\n",
    "    T = pickle.load(f)"
   ]
  },
  {
   "cell_type": "code",
   "execution_count": null,
   "metadata": {},
   "outputs": [],
   "source": [
    "nd = 1\n",
    "nr = nr\n",
    "rd = 8 #4*2\n",
    "rr = 4 #2*2\n",
    "\n",
    "D = [i for i in range(0, nd * rd)] # set of dummy depots\n",
    "C = [i for i in range(nd * rd, nd * rd + nc)] # set of customers\n",
    "R = [i for i in range(nd * rd + nc, nd * rd + nc + nr * rr)] # set of dummy rs's\n",
    "id_R = [1,1,1,1,2,2,2,2,3,3,3,3,4,4,4,4] # identity of rs in set R\n",
    "\n",
    "V = D + C + R # set of all vertices\n",
    "\n",
    "print(D)\n",
    "print(C)\n",
    "print(R)"
   ]
  },
  {
   "cell_type": "code",
   "execution_count": null,
   "metadata": {},
   "outputs": [],
   "source": [
    "dictionary_map = {} # index_old -> index_new\n",
    "\n",
    "d_list = [i for i in range(0, rd)]\n",
    "dictionary_map[0] = d_list\n",
    "\n",
    "for i in range(0, nc):\n",
    "    dictionary_map[1 + i] = [rd + i]\n",
    "\n",
    "for i in range(0, nr):\n",
    "    r_list = []\n",
    "    for j in range(nd * rd + nc + i * rr, nd * rd + nc + (i + 1) * rr):\n",
    "        r_list.append(j)\n",
    "    dictionary_map[1 + nc + i] = r_list\n",
    "    \n",
    "print(dictionary_map)"
   ]
  },
  {
   "cell_type": "code",
   "execution_count": null,
   "metadata": {
    "scrolled": true
   },
   "outputs": [],
   "source": [
    "costs = {}\n",
    "\n",
    "for (i, j) in distances:\n",
    "    for m in dictionary_map[i]:\n",
    "        for n in dictionary_map[j]:\n",
    "            costs[(m, n)] = distances[(i, j)]\n",
    "            \n",
    "#print(costs)"
   ]
  },
  {
   "cell_type": "code",
   "execution_count": null,
   "metadata": {},
   "outputs": [],
   "source": [
    "routes_mapped = {}\n",
    "\n",
    "for (i, j) in routes:\n",
    "    for m in dictionary_map[i]:\n",
    "        for n in dictionary_map[j]:\n",
    "            routes_mapped[(m, n)] = routes[(i, j)]\n",
    "            \n",
    "#print(routes_mapped.keys())"
   ]
  },
  {
   "cell_type": "code",
   "execution_count": null,
   "metadata": {},
   "outputs": [],
   "source": [
    "D_in = [i for i in range(0, nd * rd, 2)] # ingoing dummy depots(even vertices)\n",
    "D_out = [i for i in range(1, nd * rd, 2)] # outgoing dummy depots(odd vertices)\n",
    "\n",
    "R_in = [i for i in range(nd * rd + nc, nd * rd + nc + nr * rr, 2)] # ingoing dummy rs's\n",
    "R_out = [i for i in range(nd * rd + nc + 1, nd * rd + nc + nr * rr + 1, 2)] # outgoing dummy rs's\n",
    "\n",
    "print(D_in)\n",
    "print(D_out)\n",
    "print(R_in)\n",
    "print(R_out)"
   ]
  },
  {
   "cell_type": "code",
   "execution_count": null,
   "metadata": {},
   "outputs": [],
   "source": [
    "E_D = [(D_in[i], D_out[i]) for i in range(0,len(D_in))] # internal connections within D\n",
    "E_R = [(R_in[i], R_out[i]) for i in range(0,len(R_in))] # internal connections within R\n",
    "\n",
    "print(E_D)\n",
    "print(E_R)"
   ]
  },
  {
   "cell_type": "code",
   "execution_count": null,
   "metadata": {},
   "outputs": [],
   "source": [
    "E_rest =   [(i,j) for i in D_out for j in C + R_in] \\\n",
    "         + [(i,j) for i in C for j in D_in + C + R_in if i != j] \\\n",
    "         + [(i,j) for i in R_out for j in D_in + C] \\\n",
    "         + [(i,j) for i in R_out for j in R_in if id_R[R.index(i)] != id_R[R.index(j)]]\n",
    "\n",
    "# line1 descreibes outgoing connections from D_out\n",
    "# line2 descreibes outgoing connections from C and internal connections within C, note cc' and c'c are different tours\n",
    "# line3 descreibes outgoing connections from R_out to D_in or to C\n",
    "# line4 enables rs to rs' interconnections\n",
    "\n",
    "E = E_rest + E_D + E_R # set of all edges\n",
    "\n",
    "#print(E)"
   ]
  },
  {
   "cell_type": "code",
   "execution_count": null,
   "metadata": {},
   "outputs": [],
   "source": [
    "from docplex.mp.model import Model\n",
    "\n",
    "mdl = Model('GVRP')\n",
    "\n",
    "x = mdl.binary_var_dict(E, name = 'x') # binary varible x, x_ij=1 if arc(or edge)_ij is activated\n",
    "l = mdl.continuous_var_dict(V, name = 'l') # battery-level l, default lower bound = 0\n",
    "t = mdl.continuous_var_dict(V, name = 't', ub = T) # time t, upper bound = T\n",
    "\n",
    "mdl.minimize(mdl.sum(costs[i, j] * x[i, j] for i, j in E)) # objective\n",
    "\n",
    "# fully recharged at depot\n",
    "mdl.add_indicator_constraints(mdl.indicator_constraint(x[i, j], l[j] == L) for (i, j) in E_D)\n",
    "# time reset at depot\n",
    "mdl.add_indicator_constraints(mdl.indicator_constraint(x[i, j], t[j] == 0) for (i, j) in E_D)\n",
    "\n",
    "# fully recharged at rs\n",
    "mdl.add_indicator_constraints(mdl.indicator_constraint(x[i, j], l[j] == L) for (i, j) in E_R)\n",
    "# charging time at rs\n",
    "mdl.add_indicator_constraints(mdl.indicator_constraint(x[i, j], t[j] == t[i] + service_time_rs) for (i, j) in E_R)\n",
    "\n",
    "# battery consumption\n",
    "mdl.add_indicator_constraints(mdl.indicator_constraint(x[i, j], l[j] == l[i] - r * costs[i, j]) for (i, j) in E_rest)\n",
    "# time flows\n",
    "mdl.add_indicator_constraints(mdl.indicator_constraint(x[i, j], t[j] == t[i] + costs[i, j] / v) for (i, j) in E_rest if i not in C) \n",
    "# time flows + service time at customer\n",
    "mdl.add_indicator_constraints(mdl.indicator_constraint(x[i, j], t[j] == t[i] + costs[i, j] / v + service_time_customer) for (i, j) in E_rest if i in C) \n",
    "\n",
    "for ic in C: # flow conservation at c\n",
    "    mdl.add_constraint(mdl.sum(x[i, j] for (i, j) in E if j == ic) == 1)\n",
    "    #mdl.add_constraint(mdl.sum(x[j, k] for (j, k) in E if j == ic) == 1)\n",
    "\n",
    "for iv in V: # overall flow conservation\n",
    "    mdl.add_constraint(mdl.sum(x[i, j] for (i, j) in E if j == iv) == mdl.sum(x[j, k] for (j, k) in E if j == iv))\n",
    "\n",
    "mdl.print_information()"
   ]
  },
  {
   "cell_type": "code",
   "execution_count": null,
   "metadata": {},
   "outputs": [],
   "source": [
    "mdl.set_time_limit(100)\n",
    "\n",
    "solution = mdl.solve(log_output = True)"
   ]
  },
  {
   "cell_type": "code",
   "execution_count": null,
   "metadata": {},
   "outputs": [],
   "source": [
    "print(solution.solve_status)"
   ]
  },
  {
   "cell_type": "code",
   "execution_count": null,
   "metadata": {},
   "outputs": [],
   "source": [
    "E_active = [i for i in E if x[i].solution_value == 1]\n",
    "\n",
    "# search for tours in E_active\n",
    "\n",
    "tours = []\n",
    "\n",
    "for i in E_active:\n",
    "    if i[0] in D_out:\n",
    "        break\n",
    "tour = list(i)\n",
    "vi = i[1]\n",
    "ne = 1 # number of edges counted\n",
    "Dout = [i[0]]\n",
    "\n",
    "while ne < len(E_active):\n",
    "    while not vi in D_in:\n",
    "        for i in E_active:\n",
    "            if i[0] == vi:\n",
    "                break\n",
    "        vi = i[1]\n",
    "        tour.append(vi)\n",
    "        ne = ne + 1\n",
    "    tours.append(tour)\n",
    "    ne = ne + 1\n",
    "    for i in E_active:\n",
    "        if i[0] in D_out and not i[0] in Dout:\n",
    "            break\n",
    "    tour = list(i)\n",
    "    vi = i[1]\n",
    "    ne = ne + 1\n",
    "    Dout.append(i[0])\n",
    "    \n",
    "print(tours)"
   ]
  },
  {
   "cell_type": "code",
   "execution_count": null,
   "metadata": {},
   "outputs": [],
   "source": [
    "def get_key (dic, value):\n",
    "    for key, val in dic.items():\n",
    "        if value in val:\n",
    "            return key\n",
    "\n",
    "tours_demapped = []\n",
    "\n",
    "for i in tours:\n",
    "    vi_last = -1\n",
    "    tour = []\n",
    "    for j in i:\n",
    "        vi = get_key(dictionary_map ,j)\n",
    "        if vi != vi_last:\n",
    "            tour.append(vi)\n",
    "            vi_last = vi\n",
    "    tours_demapped.append(tour)\n",
    "\n",
    "for i in tours_demapped:\n",
    "    if i[1] > i[-2]:\n",
    "        i.reverse()\n",
    "        \n",
    "from operator import itemgetter\n",
    "\n",
    "tours_demapped = sorted(tours_demapped, key = itemgetter(1))\n",
    "    \n",
    "print(tours_demapped)"
   ]
  },
  {
   "cell_type": "code",
   "execution_count": null,
   "metadata": {},
   "outputs": [],
   "source": [
    "tour_distances = []\n",
    "\n",
    "for i in tours:\n",
    "    distance = 0\n",
    "    for j in range(0, len(i) - 1):\n",
    "        distance += costs[tuple(i[j: j + 2])]\n",
    "    tour_distances.append(distance)\n",
    "\n",
    "print(tour_distances)\n",
    "print(sum(tour_distances))"
   ]
  },
  {
   "cell_type": "code",
   "execution_count": null,
   "metadata": {},
   "outputs": [],
   "source": [
    "tour_times = []\n",
    "\n",
    "for i in tours:\n",
    "    time = 0\n",
    "    for j in range(0, len(i) - 1):\n",
    "        time += costs[tuple(i[j: j + 2])] / v\n",
    "    for j in range(0, len(i)):\n",
    "        if i[j] in C:\n",
    "            time += service_time_customer\n",
    "        if i[j] in R:\n",
    "            time += service_time_rs / 2\n",
    "    tour_times.append(time)\n",
    "\n",
    "print(tour_times)\n",
    "print(sum(tour_times))"
   ]
  },
  {
   "cell_type": "code",
   "execution_count": null,
   "metadata": {},
   "outputs": [],
   "source": [
    "api_file = open(\"apikey.txt\", \"r\")\n",
    "api_key = api_file.read()\n",
    "api_file.close()\n",
    "\n",
    "lats, lngs = zip(*locations_new)\n",
    "\n",
    "import gmplot\n",
    "\n",
    "gmap = gmplot.GoogleMapPlotter((north_bound + south_bound) / 2, (left_bound + right_bound) / 2, 13, apikey = api_key)\n",
    "\n",
    "gmap.marker(north_bound, left_bound, color = 'gray')\n",
    "gmap.marker(south_bound, left_bound, color = 'gray')\n",
    "gmap.marker(north_bound, right_bound, color = 'gray')\n",
    "gmap.marker(south_bound, right_bound, color = 'gray')\n",
    "\n",
    "gmap.marker(lats[0], lngs[0], color = 'red')\n",
    "\n",
    "gmap.scatter(lats[1: (nc + 1)], lngs[1: (nc + 1)], color = 'blue', size = 25, marker = False)\n",
    "\n",
    "for i in range(0, nr):\n",
    "    gmap.marker(lats[1 + nc + i], lngs[1 + nc + i], color = 'gold')\n",
    "\n",
    "import polyline\n",
    "for i in range(0, len(tours)):\n",
    "    for j in range(0, len(tours[i]) - 1):\n",
    "        if (tours[i][j], tours[i][j+1]) not in E_R:\n",
    "            pll = routes_mapped[(tours[i][j], tours[i][j+1])]['routes'][0]['overview_polyline']['points']\n",
    "            path = zip(*polyline.decode(pll))\n",
    "            gmap.plot(*path, edge_width = 3, color = 'green', alpha = 0.5)\n",
    "        \n",
    "for i in range(len(lats)):\n",
    "    gmap.text(lats[i] - 0.0007, lngs[i], str(i))\n",
    "\n",
    "url = 'map_' + fpath[fpath.rindex('/') + 1:] + '_CPLEX.html'\n",
    "\n",
    "gmap.draw(url)\n",
    "\n",
    "from IPython.display import IFrame\n",
    "\n",
    "IFrame(url, width = 500, height = 500)"
   ]
  },
  {
   "cell_type": "code",
   "execution_count": null,
   "metadata": {},
   "outputs": [],
   "source": [
    "from openpyxl import load_workbook\n",
    "\n",
    "wb = load_workbook('Results.xlsx')\n",
    "ws = wb.active\n",
    "ws.append([fpath[fpath.rindex('/') + 1:] + '_CPLEX', sum(tour_times), sum(tour_distances), str(tours_demapped)])\n",
    "wb.save('Results.xlsx')"
   ]
  },
  {
   "cell_type": "code",
   "execution_count": null,
   "metadata": {},
   "outputs": [],
   "source": []
  }
 ],
 "metadata": {
  "kernelspec": {
   "display_name": "Python 3 (ipykernel)",
   "language": "python",
   "name": "python3"
  },
  "language_info": {
   "codemirror_mode": {
    "name": "ipython",
    "version": 3
   },
   "file_extension": ".py",
   "mimetype": "text/x-python",
   "name": "python",
   "nbconvert_exporter": "python",
   "pygments_lexer": "ipython3",
   "version": "3.10.10"
  }
 },
 "nbformat": 4,
 "nbformat_minor": 2
}
