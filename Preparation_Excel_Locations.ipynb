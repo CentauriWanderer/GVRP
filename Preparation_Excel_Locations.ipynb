{
 "cells": [
  {
   "cell_type": "code",
   "execution_count": null,
   "metadata": {},
   "outputs": [],
   "source": [
    "from IPython import get_ipython\n",
    "get_ipython().magic('reset -sf') "
   ]
  },
  {
   "cell_type": "code",
   "execution_count": null,
   "metadata": {
    "scrolled": true
   },
   "outputs": [],
   "source": [
    "import pandas as pd\n",
    "\n",
    "data_frame = pd.read_excel('data_case_study.xlsx')\n",
    "li = data_frame['Straße'].drop_duplicates().tolist()\n",
    "addresses = [e + ', Münster' for e in li]\n",
    "\n",
    "print(addresses)"
   ]
  },
  {
   "cell_type": "code",
   "execution_count": null,
   "metadata": {},
   "outputs": [],
   "source": [
    "import requests\n",
    "\n",
    "api_file = open(\"apikey.txt\", \"r\")\n",
    "api_key = api_file.read()\n",
    "api_file.close()\n",
    "\n",
    "url_geocode = \"https://maps.googleapis.com/maps/api/geocode/json?\"\n",
    "url_directions = \"https://maps.googleapis.com/maps/api/directions/json?\"\n",
    "\n",
    "locations_new = []\n",
    "\n",
    "for i in addresses:\n",
    "    response = requests.get(url_geocode + 'address=' + i + '&key=' + api_key)\n",
    "    dic = response.json()\n",
    "    lat = dic['results'][0]['geometry']['location']['lat']\n",
    "    lng = dic['results'][0]['geometry']['location']['lng']\n",
    "    locations_new.append([lat, lng])\n",
    "\n",
    "print(locations_new)"
   ]
  },
  {
   "cell_type": "code",
   "execution_count": null,
   "metadata": {},
   "outputs": [],
   "source": [
    "distances = {}\n",
    "routes = {}\n",
    "count = 0\n",
    "total = len(addresses) * (len(addresses) - 1)\n",
    "\n",
    "for i in range(0, len(addresses)):\n",
    "    for j in range(i + 1, len(addresses)):\n",
    "        origin = addresses[i]\n",
    "        destination = addresses[j]\n",
    "        response = requests.get(url_directions + \"origin=\" + origin + \"&destination=\" + destination+ \"&key=\" + api_key)\n",
    "        route = response.json()\n",
    "        routes[(i, j)] = route\n",
    "        distance = route[\"routes\"][0][\"legs\"][0][\"distance\"][\"value\"]\n",
    "        distances[(i, j)] = distance / 1000\n",
    "        \n",
    "        routes[(j, i)] = route\n",
    "        distances[(j, i)] = distance / 1000\n",
    "        \n",
    "        '''\n",
    "        origin = addresses[j]\n",
    "        destination = addresses[i]\n",
    "        response = requests.get(url_directions + \"origin=\" + origin + \"&destination=\" + destination+ \"&key=\" + api_key)\n",
    "        route = response.json()\n",
    "        routes[(j, i)] = route\n",
    "        distance = route[\"routes\"][0][\"legs\"][0][\"distance\"][\"value\"]\n",
    "        distances[(j, i)] = distance / 1000\n",
    "        '''\n",
    "        \n",
    "        count += 2\n",
    "        print('%3.2f percent complete' %(count / total * 100), end = '\\r')\n",
    "        "
   ]
  },
  {
   "cell_type": "code",
   "execution_count": null,
   "metadata": {},
   "outputs": [],
   "source": [
    "nc = len(addresses) - 1\n",
    "nr = 0\n",
    "\n",
    "for i in range(0, nc + nr + 1):\n",
    "    distances[(i, i)] = 0\n",
    "    \n",
    "#print(distances)\n",
    "#print(routes.keys())"
   ]
  },
  {
   "cell_type": "code",
   "execution_count": null,
   "metadata": {},
   "outputs": [],
   "source": [
    "from tkinter import filedialog\n",
    "from tkinter import Tk\n",
    "import os\n",
    "\n",
    "root = Tk()\n",
    "path = filedialog.asksaveasfilename(initialdir = os.getcwd(), title = 'Please select a file:')\n",
    "\n",
    "root.destroy()\n",
    "\n",
    "print(path)"
   ]
  },
  {
   "cell_type": "code",
   "execution_count": null,
   "metadata": {},
   "outputs": [],
   "source": [
    "north_bound = 51.944711\n",
    "south_bound = 51.877997\n",
    "left_bound = 7.551670\n",
    "right_bound = 7.651555\n",
    "\n",
    "service_time_customer = 0.1666\n",
    "service_time_rs = 1\n",
    "speed = 40\n",
    "battery_consum_rate = 1\n",
    "battery_full_level = 200\n",
    "maximum_time = 6\n",
    "\n",
    "import pickle\n",
    "f = open(path,'wb')\n",
    "\n",
    "pickle.dump(locations_new, f)\n",
    "pickle.dump(addresses, f)\n",
    "pickle.dump(distances, f)\n",
    "pickle.dump(routes, f)\n",
    "\n",
    "pickle.dump(north_bound, f)\n",
    "pickle.dump(south_bound, f)\n",
    "pickle.dump(left_bound, f)\n",
    "pickle.dump(right_bound, f)\n",
    "\n",
    "pickle.dump(nc, f)\n",
    "pickle.dump(nr, f)\n",
    "\n",
    "pickle.dump(service_time_customer, f)\n",
    "pickle.dump(service_time_rs, f)\n",
    "pickle.dump(speed, f)\n",
    "pickle.dump(battery_consum_rate, f)\n",
    "pickle.dump(battery_full_level, f)\n",
    "pickle.dump(maximum_time, f)\n",
    "\n",
    "f.close()"
   ]
  },
  {
   "cell_type": "code",
   "execution_count": null,
   "metadata": {},
   "outputs": [],
   "source": [
    "lats, lngs = zip(*locations_new)\n",
    "\n",
    "import gmplot\n",
    "\n",
    "gmap = gmplot.GoogleMapPlotter((north_bound + south_bound) / 2, (left_bound + right_bound) / 2, 12, apikey = api_key)\n",
    "\n",
    "gmap.marker(north_bound, left_bound, color = 'black')\n",
    "gmap.marker(south_bound, left_bound, color = 'black')\n",
    "gmap.marker(north_bound, right_bound, color = 'black')\n",
    "gmap.marker(south_bound, right_bound, color = 'black')\n",
    "\n",
    "gmap.marker(lats[0], lngs[0], color = 'red')\n",
    "\n",
    "gmap.scatter(lats[1: (nc + 1)], lngs[1: (nc + 1)], color = 'blue', size = 100, marker = False)\n",
    "\n",
    "for i in range(0, nr):\n",
    "    \n",
    "    gmap.marker(lats[1+ nc + i], lngs[1+ nc + i], color = 'gold')\n",
    "\n",
    "url = 'map_' + path[path.rindex('/') + 1:] + '.html'\n",
    "\n",
    "gmap.draw(url)\n",
    "\n",
    "from IPython.display import IFrame\n",
    "\n",
    "IFrame(url, width = 500, height = 500)"
   ]
  }
 ],
 "metadata": {
  "kernelspec": {
   "display_name": "Python 3 (ipykernel)",
   "language": "python",
   "name": "python3"
  },
  "language_info": {
   "codemirror_mode": {
    "name": "ipython",
    "version": 3
   },
   "file_extension": ".py",
   "mimetype": "text/x-python",
   "name": "python",
   "nbconvert_exporter": "python",
   "pygments_lexer": "ipython3",
   "version": "3.10.10"
  }
 },
 "nbformat": 4,
 "nbformat_minor": 4
}
