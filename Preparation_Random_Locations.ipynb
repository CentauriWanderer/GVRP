{
 "cells": [
  {
   "cell_type": "code",
   "execution_count": null,
   "metadata": {},
   "outputs": [],
   "source": [
    "from IPython import get_ipython\n",
    "get_ipython().magic('reset -sf') "
   ]
  },
  {
   "cell_type": "code",
   "execution_count": null,
   "metadata": {},
   "outputs": [],
   "source": [
    "import requests\n",
    "\n",
    "api_file = open(\"apikey.txt\", \"r\")\n",
    "api_key = api_file.read()\n",
    "api_file.close()\n",
    "\n",
    "url_geocode = \"https://maps.googleapis.com/maps/api/geocode/json?\"\n",
    "url_directions = \"https://maps.googleapis.com/maps/api/directions/json?\"\n",
    "\n",
    "north_bound = 51.438850\n",
    "south_bound = 51.404455\n",
    "left_bound = 6.865338\n",
    "right_bound = 6.906226"
   ]
  },
  {
   "cell_type": "code",
   "execution_count": null,
   "metadata": {},
   "outputs": [],
   "source": [
    "nc = 125\n",
    "nr = 4 #\n",
    "\n",
    "locations = [[(north_bound + south_bound) / 2, (left_bound + right_bound) / 2]]\n",
    "\n",
    "import random\n",
    "for i in range(1, nc + 1):\n",
    "    locations.append([random.uniform(south_bound, north_bound), random.uniform(left_bound, right_bound)])\n",
    "    \n",
    "locations.append([north_bound * 0.25 + south_bound * 0.75, left_bound * 0.25 + right_bound * 0.75])\n",
    "locations.append([north_bound * 0.75 + south_bound * 0.25, left_bound * 0.25 + right_bound * 0.75])\n",
    "locations.append([north_bound * 0.25 + south_bound * 0.75, left_bound * 0.75 + right_bound * 0.25])\n",
    "locations.append([north_bound * 0.75 + south_bound * 0.25, left_bound * 0.75 + right_bound * 0.25])\n",
    "\n",
    "print(locations)"
   ]
  },
  {
   "cell_type": "code",
   "execution_count": null,
   "metadata": {},
   "outputs": [],
   "source": [
    "def find_nearby_address(index):\n",
    "    lat = locations[index][0]\n",
    "    lng = locations[index][1]\n",
    "    response = requests.get(url_geocode + 'latlng=' + str(lat) + ',' + str(lng) + '&key=' + api_key)\n",
    "    dic = response.json()\n",
    "    if dic['results'][0]['address_components'][0]['types'] == ['street_number']:\n",
    "        address = dic['results'][0]['formatted_address']\n",
    "        lat_new = dic['results'][0]['geometry']['location']['lat']\n",
    "        lng_new = dic['results'][0]['geometry']['location']['lng']\n",
    "        return (lat_new, lng_new, address)\n",
    "    search_radius = 0.001\n",
    "    while True:\n",
    "        count = 0\n",
    "        while count < 20:\n",
    "            lat_new = lat + random.uniform(-search_radius, search_radius)\n",
    "            lng_new = lng + random.uniform(-search_radius, search_radius)\n",
    "            response = requests.get(url_geocode + 'latlng=' + str(lat_new) + ',' + str(lng_new) + '&key=' + api_key)\n",
    "            dic = response.json()\n",
    "            if dic['results'][0]['address_components'][0]['types'] == ['street_number']:\n",
    "                address = dic['results'][0]['formatted_address']\n",
    "                lat_new = dic['results'][0]['geometry']['location']['lat']\n",
    "                lng_new = dic['results'][0]['geometry']['location']['lng']\n",
    "                return (lat_new, lng_new, address)\n",
    "            count += 1\n",
    "        search_radius += 0.001"
   ]
  },
  {
   "cell_type": "code",
   "execution_count": null,
   "metadata": {},
   "outputs": [],
   "source": [
    "locations_new = []\n",
    "addresses = []\n",
    "\n",
    "(lat, lng, address) = find_nearby_address(0)\n",
    "locations_new.append([lat, lng])\n",
    "addresses.append(address)\n",
    "\n",
    "for i in range(1, nc + 1):\n",
    "    lat = locations[i][0]\n",
    "    lng = locations[i][1]\n",
    "    response = requests.get(url_geocode + 'latlng=' + str(lat) + ',' + str(lng) + '&key=' + api_key)\n",
    "    dic = response.json()\n",
    "    while dic['status'] == 'ZERO_RESULTS' or dic['results'][0]['address_components'][0]['types'] != ['street_number']:\n",
    "        lat = random.uniform(south_bound, north_bound)\n",
    "        lng = random.uniform(left_bound, right_bound)\n",
    "        response = requests.get(url_geocode + 'latlng=' + str(lat) + ',' + str(lng) + '&key=' + api_key)\n",
    "        dic = response.json()\n",
    "    lat = dic['results'][0]['geometry']['location']['lat']\n",
    "    lng = dic['results'][0]['geometry']['location']['lng']\n",
    "    locations_new.append([lat,lng])\n",
    "    addresses.append(dic['results'][0]['formatted_address'])\n",
    "\n",
    "for i in range(nc + 1, nc + nr + 1):\n",
    "    (lat, lng, address) = find_nearby_address(i)\n",
    "    locations_new.append([lat, lng])\n",
    "    addresses.append(address)"
   ]
  },
  {
   "cell_type": "code",
   "execution_count": null,
   "metadata": {
    "scrolled": true
   },
   "outputs": [],
   "source": [
    "print(locations_new)\n",
    "print(addresses)"
   ]
  },
  {
   "cell_type": "code",
   "execution_count": null,
   "metadata": {},
   "outputs": [],
   "source": [
    "distances = {}\n",
    "routes = {}\n",
    "count = 0\n",
    "total = len(addresses) * (len(addresses) - 1)\n",
    "\n",
    "for i in range(0, len(addresses)):\n",
    "    for j in range(i + 1, len(addresses)):\n",
    "        origin = addresses[i]\n",
    "        destination = addresses[j]\n",
    "        response = requests.get(url_directions + \"origin=\" + origin + \"&destination=\" + destination+ \"&key=\" + api_key)\n",
    "        route = response.json()\n",
    "        routes[(i, j)] = route\n",
    "        distance = route[\"routes\"][0][\"legs\"][0][\"distance\"][\"value\"]\n",
    "        distances[(i, j)] = distance / 1000\n",
    "        \n",
    "        routes[(j, i)] = route\n",
    "        distances[(j, i)] = distance / 1000\n",
    "        \n",
    "        '''\n",
    "        origin = addresses[j]\n",
    "        destination = addresses[i]\n",
    "        response = requests.get(url_directions + \"origin=\" + origin + \"&destination=\" + destination+ \"&key=\" + api_key)\n",
    "        route = response.json()\n",
    "        routes[(j, i)] = route\n",
    "        distance = route[\"routes\"][0][\"legs\"][0][\"distance\"][\"value\"]\n",
    "        distances[(j, i)] = distance / 1000\n",
    "        '''\n",
    "        \n",
    "        count += 2\n",
    "        print('%3.2f percent complete' %(count / total * 100), end = '\\r')\n",
    "        "
   ]
  },
  {
   "cell_type": "code",
   "execution_count": null,
   "metadata": {},
   "outputs": [],
   "source": [
    "for i in range(0, nc + nr + 1):\n",
    "    distances[(i, i)] = 0"
   ]
  },
  {
   "cell_type": "code",
   "execution_count": null,
   "metadata": {
    "scrolled": true
   },
   "outputs": [],
   "source": [
    "print(distances)"
   ]
  },
  {
   "cell_type": "code",
   "execution_count": null,
   "metadata": {
    "scrolled": true
   },
   "outputs": [],
   "source": [
    "print(routes.keys())"
   ]
  },
  {
   "cell_type": "code",
   "execution_count": null,
   "metadata": {},
   "outputs": [],
   "source": [
    "from tkinter import filedialog\n",
    "from tkinter import Tk\n",
    "import os\n",
    "\n",
    "root = Tk()\n",
    "path = filedialog.asksaveasfilename(initialdir = os.getcwd(), title = 'Please select a file:')\n",
    "\n",
    "root.destroy()\n",
    "\n",
    "print(path)"
   ]
  },
  {
   "cell_type": "code",
   "execution_count": null,
   "metadata": {},
   "outputs": [],
   "source": [
    "service_time_customer = 0.1666\n",
    "service_time_rs = 1\n",
    "speed = 40\n",
    "battery_consum_rate = 1\n",
    "battery_full_level = 15\n",
    "maximum_time = 1\n",
    "\n",
    "import pickle\n",
    "f = open(path,'wb')\n",
    "pickle.dump(locations_new, f)\n",
    "pickle.dump(addresses, f)\n",
    "pickle.dump(distances, f)\n",
    "pickle.dump(routes, f)\n",
    "\n",
    "pickle.dump(north_bound, f)\n",
    "pickle.dump(south_bound, f)\n",
    "pickle.dump(left_bound, f)\n",
    "pickle.dump(right_bound, f)\n",
    "pickle.dump(nc, f)\n",
    "pickle.dump(nr, f)\n",
    "pickle.dump(service_time_customer, f)\n",
    "pickle.dump(service_time_rs, f)\n",
    "pickle.dump(speed, f)\n",
    "pickle.dump(battery_consum_rate, f)\n",
    "pickle.dump(battery_full_level, f)\n",
    "pickle.dump(maximum_time, f)\n",
    "f.close()"
   ]
  },
  {
   "cell_type": "code",
   "execution_count": null,
   "metadata": {},
   "outputs": [],
   "source": [
    "lats, lngs = zip(*locations_new)\n",
    "\n",
    "import gmplot\n",
    "\n",
    "gmap = gmplot.GoogleMapPlotter((north_bound + south_bound) / 2, (left_bound + right_bound) / 2, 13, apikey = api_key)\n",
    "\n",
    "gmap.marker(north_bound, left_bound, color = 'black')\n",
    "gmap.marker(south_bound, left_bound, color = 'black')\n",
    "gmap.marker(north_bound, right_bound, color = 'black')\n",
    "gmap.marker(south_bound, right_bound, color = 'black')\n",
    "\n",
    "gmap.marker(lats[0], lngs[0], color = 'red')\n",
    "\n",
    "gmap.scatter(lats[1: (nc + 1)], lngs[1: (nc + 1)], color = 'blue', size = 100, marker = False)\n",
    "\n",
    "for i in range(0, nr):\n",
    "    \n",
    "    gmap.marker(lats[1+ nc + i], lngs[1+ nc + i], color = 'gold')\n",
    "    \n",
    "url = 'map_' + path[path.rindex('/') + 1:] + '.html'\n",
    "\n",
    "gmap.draw(url)\n",
    "\n",
    "from IPython.display import IFrame\n",
    "\n",
    "IFrame(url, width = 500, height = 500)"
   ]
  },
  {
   "cell_type": "code",
   "execution_count": null,
   "metadata": {},
   "outputs": [],
   "source": []
  }
 ],
 "metadata": {
  "kernelspec": {
   "display_name": "Python 3 (ipykernel)",
   "language": "python",
   "name": "python3"
  },
  "language_info": {
   "codemirror_mode": {
    "name": "ipython",
    "version": 3
   },
   "file_extension": ".py",
   "mimetype": "text/x-python",
   "name": "python",
   "nbconvert_exporter": "python",
   "pygments_lexer": "ipython3",
   "version": "3.10.10"
  }
 },
 "nbformat": 4,
 "nbformat_minor": 4
}
