{
 "cells": [
  {
   "cell_type": "code",
   "execution_count": null,
   "metadata": {},
   "outputs": [],
   "source": [
    "from tkinter import filedialog\n",
    "from tkinter import Tk\n",
    "import os\n",
    "\n",
    "root = Tk()\n",
    "path = filedialog.askopenfilename(initialdir = os.getcwd(), title = 'Please select a file:')\n",
    "\n",
    "root.destroy()"
   ]
  },
  {
   "cell_type": "code",
   "execution_count": null,
   "metadata": {},
   "outputs": [],
   "source": [
    "import pickle\n",
    "with open(path,'rb') as f:\n",
    "    locations_new = pickle.load(f)\n",
    "    addresses = pickle.load(f)\n",
    "    distances = pickle.load(f)\n",
    "    routes = pickle.load(f)\n",
    "    north_bound = pickle.load(f)\n",
    "    south_bound = pickle.load(f)\n",
    "    left_bound = pickle.load(f)\n",
    "    right_bound = pickle.load(f)\n",
    "    nc = pickle.load(f)\n",
    "    nr = pickle.load(f)\n",
    "    service_time_customer = pickle.load(f)\n",
    "    service_time_rs = pickle.load(f)\n",
    "    v = pickle.load(f)\n",
    "    r = pickle.load(f)\n",
    "    L = pickle.load(f)\n",
    "    T = pickle.load(f)"
   ]
  },
  {
   "cell_type": "code",
   "execution_count": null,
   "metadata": {},
   "outputs": [],
   "source": [
    "locations_new = locations_new\n",
    "addresses = addresses\n",
    "distances = distances\n",
    "routes = routes\n",
    "north_bound = north_bound\n",
    "south_bound = south_bound\n",
    "left_bound = left_bound\n",
    "right_bound = right_bound\n",
    "nc = nc\n",
    "nr = nr\n",
    "service_time_customer = service_time_customer \n",
    "service_time_rs = service_time_rs\n",
    "v = v\n",
    "r = r\n",
    "L = L\n",
    "T = T"
   ]
  },
  {
   "cell_type": "code",
   "execution_count": null,
   "metadata": {},
   "outputs": [],
   "source": [
    "print('Number of customers:')\n",
    "print(nc)\n",
    "print('Number of RSs:')\n",
    "print(nr)\n",
    "print('Service time of customer:')\n",
    "print(service_time_customer)\n",
    "print('Service time of RS:')\n",
    "print(service_time_rs)\n",
    "print('Speed:')\n",
    "print(v)\n",
    "print('Battery consumption rate:')\n",
    "print(r)\n",
    "print('Battery full level:')\n",
    "print(L)\n",
    "print('Maximum time:')\n",
    "print(T)"
   ]
  },
  {
   "cell_type": "code",
   "execution_count": null,
   "metadata": {},
   "outputs": [],
   "source": [
    "f = open(path,'wb')\n",
    "pickle.dump(locations_new, f)\n",
    "pickle.dump(addresses, f)\n",
    "pickle.dump(distances, f)\n",
    "pickle.dump(routes, f)\n",
    "pickle.dump(north_bound, f)\n",
    "pickle.dump(south_bound, f)\n",
    "pickle.dump(left_bound, f)\n",
    "pickle.dump(right_bound, f)\n",
    "pickle.dump(nc, f)\n",
    "pickle.dump(nr, f)\n",
    "pickle.dump(service_time_customer, f)\n",
    "pickle.dump(service_time_rs, f)\n",
    "pickle.dump(v, f)\n",
    "pickle.dump(r, f)\n",
    "pickle.dump(L, f)\n",
    "pickle.dump(T, f)\n",
    "f.close()"
   ]
  }
 ],
 "metadata": {
  "kernelspec": {
   "display_name": "Python 3 (ipykernel)",
   "language": "python",
   "name": "python3"
  },
  "language_info": {
   "codemirror_mode": {
    "name": "ipython",
    "version": 3
   },
   "file_extension": ".py",
   "mimetype": "text/x-python",
   "name": "python",
   "nbconvert_exporter": "python",
   "pygments_lexer": "ipython3",
   "version": "3.10.10"
  }
 },
 "nbformat": 4,
 "nbformat_minor": 4
}
