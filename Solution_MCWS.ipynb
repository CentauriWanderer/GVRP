{
 "cells": [
  {
   "cell_type": "code",
   "execution_count": null,
   "metadata": {},
   "outputs": [],
   "source": [
    "from IPython import get_ipython\n",
    "get_ipython().magic('reset -sf') "
   ]
  },
  {
   "cell_type": "code",
   "execution_count": null,
   "metadata": {},
   "outputs": [],
   "source": [
    "from tkinter import filedialog\n",
    "from tkinter import Tk\n",
    "import os\n",
    "\n",
    "root = Tk()\n",
    "fpath = filedialog.askopenfilename(initialdir = os.getcwd(), title = 'Please select a file:')\n",
    "\n",
    "root.destroy()\n",
    "\n",
    "assert fpath[fpath.rindex('/') + 1:].find('.') == -1"
   ]
  },
  {
   "cell_type": "code",
   "execution_count": null,
   "metadata": {},
   "outputs": [],
   "source": [
    "import pickle\n",
    "\n",
    "with open(fpath,'rb') as f:\n",
    "\n",
    "    locations_new = pickle.load(f)\n",
    "    addresses = pickle.load(f)\n",
    "    distances = pickle.load(f)\n",
    "    routes = pickle.load(f)\n",
    "    north_bound = pickle.load(f)\n",
    "    south_bound = pickle.load(f)\n",
    "    left_bound = pickle.load(f)\n",
    "    right_bound = pickle.load(f)\n",
    "    nc = pickle.load(f)\n",
    "    nr = pickle.load(f)\n",
    "    service_time_customer = pickle.load(f)\n",
    "    service_time_rs = pickle.load(f)\n",
    "    v = pickle.load(f)\n",
    "    r = pickle.load(f)\n",
    "    L = pickle.load(f)\n",
    "    T = pickle.load(f)"
   ]
  },
  {
   "cell_type": "code",
   "execution_count": null,
   "metadata": {},
   "outputs": [],
   "source": [
    "D = [0]\n",
    "C = [i for i in range(1, nc + 1)]\n",
    "R = [i for i in range(nc + 1, nc + nr + 1)]\n",
    "V = D + C + R\n",
    "print(V)\n",
    "\n",
    "labels = ['d'] + ['c' for i in range(0, nc)] + ['r' for i in range(0, nr)]\n",
    "print(labels)\n",
    "\n",
    "times_s = {}\n",
    "for i in C:\n",
    "    times_s[i] = service_time_customer\n",
    "for i in R:\n",
    "    times_s[i] = service_time_rs\n",
    "    \n",
    "print(times_s)"
   ]
  },
  {
   "cell_type": "code",
   "execution_count": null,
   "metadata": {},
   "outputs": [],
   "source": [
    "from MCWS import MCWS\n",
    "\n",
    "mcws = MCWS()\n",
    "\n",
    "mcws.set_vertices(V, labels, distances, times_s)\n",
    "mcws.set_parameters(v, r, L, T)\n",
    "\n",
    "mcws.run()"
   ]
  },
  {
   "cell_type": "code",
   "execution_count": null,
   "metadata": {},
   "outputs": [],
   "source": [
    "print(mcws.get_log())"
   ]
  },
  {
   "cell_type": "code",
   "execution_count": null,
   "metadata": {},
   "outputs": [],
   "source": [
    "tours = mcws.get_tours()\n",
    "\n",
    "for i in tours:\n",
    "    if i[1] > i[-2]:\n",
    "        i.reverse()\n",
    "        \n",
    "from operator import itemgetter\n",
    "\n",
    "tours = sorted(tours, key = itemgetter(1))\n",
    "\n",
    "print(tours)"
   ]
  },
  {
   "cell_type": "code",
   "execution_count": null,
   "metadata": {},
   "outputs": [],
   "source": [
    "mcws.get_total_distance()"
   ]
  },
  {
   "cell_type": "code",
   "execution_count": null,
   "metadata": {},
   "outputs": [],
   "source": [
    "mcws.get_total_time()"
   ]
  },
  {
   "cell_type": "code",
   "execution_count": null,
   "metadata": {},
   "outputs": [],
   "source": [
    "api_file = open(\"apikey.txt\", \"r\")\n",
    "api_key = api_file.read()\n",
    "api_file.close()\n",
    "\n",
    "lats, lngs = zip(*locations_new)\n",
    "\n",
    "import gmplot\n",
    "\n",
    "gmap = gmplot.GoogleMapPlotter((north_bound + south_bound) / 2, (left_bound + right_bound) / 2, 13, apikey = api_key)\n",
    "\n",
    "gmap.marker(north_bound, left_bound, color = 'gray')\n",
    "gmap.marker(south_bound, left_bound, color = 'gray')\n",
    "gmap.marker(north_bound, right_bound, color = 'gray')\n",
    "gmap.marker(south_bound, right_bound, color = 'gray')\n",
    "\n",
    "gmap.marker(lats[0], lngs[0], color = 'red')\n",
    "\n",
    "gmap.scatter(lats[1: (nc + 1)], lngs[1: (nc + 1)], color = 'blue', size = 25, marker = False)\n",
    "\n",
    "for i in range(0, nr):\n",
    "    gmap.marker(lats[1 + nc + i], lngs[1 + nc + i], color = 'gold')\n",
    "\n",
    "import polyline\n",
    "for i in range(0, len(tours)):\n",
    "    for j in range(0, len(tours[i]) - 1):\n",
    "        pll = routes[(tours[i][j], tours[i][j+1])]['routes'][0]['overview_polyline']['points']\n",
    "        path = zip(*polyline.decode(pll))\n",
    "        gmap.plot(*path, edge_width = 3, color = 'green', alpha = 0.5)\n",
    "        \n",
    "for i in range(len(lats)):\n",
    "    gmap.text(lats[i] - 0.0007, lngs[i], str(i))\n",
    "\n",
    "url = 'map_' + fpath[fpath.rindex('/') + 1:] + '_MCWS.html'\n",
    "\n",
    "gmap.draw(url)\n",
    "\n",
    "from IPython.display import IFrame\n",
    "\n",
    "IFrame(url, width = 500, height = 500)"
   ]
  },
  {
   "cell_type": "code",
   "execution_count": null,
   "metadata": {},
   "outputs": [],
   "source": [
    "from openpyxl import load_workbook\n",
    "\n",
    "wb = load_workbook('Results.xlsx')\n",
    "ws = wb.active\n",
    "ws.append([fpath[fpath.rindex('/') + 1:] + '_MCWS', mcws.get_total_time(), mcws.get_total_distance(), str(tours), str(D), str(C), str(R), v, r, L, T, service_time_customer, service_time_rs])\n",
    "wb.save('Results.xlsx')"
   ]
  },
  {
   "cell_type": "code",
   "execution_count": null,
   "metadata": {},
   "outputs": [],
   "source": []
  }
 ],
 "metadata": {
  "kernelspec": {
   "display_name": "Python 3 (ipykernel)",
   "language": "python",
   "name": "python3"
  },
  "language_info": {
   "codemirror_mode": {
    "name": "ipython",
    "version": 3
   },
   "file_extension": ".py",
   "mimetype": "text/x-python",
   "name": "python",
   "nbconvert_exporter": "python",
   "pygments_lexer": "ipython3",
   "version": "3.10.10"
  }
 },
 "nbformat": 4,
 "nbformat_minor": 4
}
