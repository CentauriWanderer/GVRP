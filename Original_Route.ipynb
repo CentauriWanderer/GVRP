{
 "cells": [
  {
   "cell_type": "code",
   "execution_count": null,
   "metadata": {
    "scrolled": true
   },
   "outputs": [],
   "source": [
    "import pandas as pd\n",
    "\n",
    "data_frame = pd.read_excel('data_case_study.xlsx')\n",
    "\n",
    "li = data_frame['Straße'].drop_duplicates().tolist()\n",
    "\n",
    "list_full_address = [e + ', Münster' for e in li] #\n",
    "\n",
    "delivery_point = list_full_address[0]\n",
    "\n",
    "list_full_address.append(delivery_point)\n",
    "\n",
    "print(list_full_address)"
   ]
  },
  {
   "cell_type": "code",
   "execution_count": null,
   "metadata": {},
   "outputs": [],
   "source": [
    "import requests\n",
    "\n",
    "api_file = open(\"apikey.txt\",\"r\")\n",
    "api_key = api_file.read()\n",
    "api_file.close()\n",
    "\n",
    "url = \"https://maps.googleapis.com/maps/api/directions/json?\"\n",
    "\n",
    "routes = []\n",
    "\n",
    "for i in range(len(list_full_address)-1):\n",
    "    route = requests.get(\n",
    "                           url \n",
    "                         + \"origin=\" \n",
    "                         + list_full_address[i]\n",
    "                         + \"&destination=\" \n",
    "                         + list_full_address[i+1]\n",
    "                         + \"&key=\" \n",
    "                         + api_key\n",
    "                         )\n",
    "    routes.append(route)\n",
    "\n",
    "routes = [e.json() for e in routes]"
   ]
  },
  {
   "cell_type": "code",
   "execution_count": null,
   "metadata": {
    "scrolled": false
   },
   "outputs": [],
   "source": [
    "paths_polyline = [e['routes'][0]['overview_polyline']['points'] for e in routes]\n",
    "\n",
    "lats_and_lngs = [(e['routes'][0]['legs'][0]['start_location']['lat'],\n",
    "                  e['routes'][0]['legs'][0]['start_location']['lng'])\n",
    "                for e in routes]\n",
    "\n",
    "lats,lngs = zip(*lats_and_lngs)\n",
    "\n",
    "import gmplot\n",
    "\n",
    "gmap = gmplot.GoogleMapPlotter(sum(lats)/len(lats), sum(lngs)/len(lngs), 13, apikey = api_key)\n",
    "\n",
    "import polyline\n",
    "\n",
    "for i in range(len(paths_polyline)):\n",
    "\n",
    "    path = zip(*polyline.decode(paths_polyline[i]))\n",
    "\n",
    "    gmap.plot(*path, edge_width = 3, color = 'blue', alpha = 0.5)\n",
    "\n",
    "gmap.scatter(lats, lngs, color = 'red', size = 40, marker = False)\n",
    "\n",
    "gmap.marker(lats_and_lngs[0][0], lats_and_lngs[0][1], color = 'red')\n",
    "\n",
    "for i in range(len(lats)):\n",
    "    \n",
    "    gmap.text(lats[i]-0.0007, lngs[i], str(i))\n",
    "\n",
    "gmap.draw('gmap5.html')\n",
    "\n",
    "from IPython.display import IFrame\n",
    "\n",
    "url = 'gmap5.html'\n",
    "\n",
    "IFrame(url, width = 800, height = 800)"
   ]
  },
  {
   "cell_type": "code",
   "execution_count": null,
   "metadata": {},
   "outputs": [],
   "source": [
    "from prettytable import PrettyTable\n",
    "\n",
    "route_table = PrettyTable(['No.','Address','Distance to...(km)','Est. travel time','Real time spent'])\n",
    "\n",
    "fz = data_frame.drop_duplicates(subset=['Straße'])['GPS-Fahrzeit'].tolist()\n",
    "\n",
    "route_table.add_row([0,delivery_point,'-','-','-'])\n",
    "\n",
    "from time import gmtime\n",
    "from time import strftime\n",
    "\n",
    "for i in range(len(routes)):\n",
    "    route_table.add_row([\n",
    "                    i+1,\n",
    "                    list_full_address[i+1].replace(', Münster',''), \n",
    "                    round(routes[i][\"routes\"][0][\"legs\"][0][\"distance\"][\"value\"]/1000,2),\n",
    "                    strftime(\"%H:%M:%S\", gmtime(routes[i][\"routes\"][0][\"legs\"][0][\"duration\"]['value'])),\n",
    "                    fz[i+1 if i<25 else 0]\n",
    "                    ])\n",
    "    \n",
    "distance = 0\n",
    "\n",
    "for i in range(len(routes)):\n",
    "    distance += routes[i][\"routes\"][0][\"legs\"][0][\"distance\"][\"value\"]\n",
    "\n",
    "distance /= 1000\n",
    "    \n",
    "route_table.add_row(['Sum', '-', distance, '-', '-'])\n",
    "\n",
    "route_table.align = 'l'\n",
    "\n",
    "print(route_table)"
   ]
  },
  {
   "cell_type": "code",
   "execution_count": null,
   "metadata": {},
   "outputs": [],
   "source": []
  }
 ],
 "metadata": {
  "kernelspec": {
   "display_name": "Python 3 (ipykernel)",
   "language": "python",
   "name": "python3"
  },
  "language_info": {
   "codemirror_mode": {
    "name": "ipython",
    "version": 3
   },
   "file_extension": ".py",
   "mimetype": "text/x-python",
   "name": "python",
   "nbconvert_exporter": "python",
   "pygments_lexer": "ipython3",
   "version": "3.10.10"
  }
 },
 "nbformat": 4,
 "nbformat_minor": 4
}
